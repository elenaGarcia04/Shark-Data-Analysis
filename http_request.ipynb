{
 "cells": [
  {
   "cell_type": "code",
   "execution_count": 2,
   "id": "90c97f55",
   "metadata": {},
   "outputs": [],
   "source": [
    "import requests\n",
    "import pandas as pd"
   ]
  },
  {
   "cell_type": "code",
   "execution_count": 7,
   "id": "983da3c1",
   "metadata": {},
   "outputs": [],
   "source": [
    "base_url = 'https://public.opendatasoft.com/api/explore/v2.1/catalog/datasets/global-shark-attack/records'\n",
    "\n",
    "\n",
    "def fetch_data(limit=100):\n",
    "    json_data = []\n",
    "    offset = 0\n",
    "    total_data = None\n",
    "    calls = 0\n",
    "    \n",
    "    while total_data is None or offset < total_data :\n",
    "        params = { \n",
    "            'limit' : limit, \n",
    "            'offset' : offset\n",
    "        }\n",
    "         \n",
    "        try:\n",
    "            url=f'{base_url}'\n",
    "       \n",
    "            response = requests.get(url, params=params)\n",
    "            response.raise_for_status()\n",
    "            \n",
    "            data = response.json()\n",
    "            \n",
    "            if total_data is None:\n",
    "               total_data = data.get('total_count')\n",
    "            \n",
    "            results = data.get('results', [])\n",
    "            json_data.extend(results)\n",
    "            \n",
    "            offset += limit\n",
    "            calls+=1\n",
    "            \n",
    "            \n",
    "        except requests.exceptions.HTTPError as error:\n",
    "            print ('Http Error: ',error)\n",
    "            return error\n",
    "        except requests.exceptions.ConnectionError as error:\n",
    "            print ('Error Connecting: ',error)\n",
    "            return error\n",
    "        except requests.exceptions.Timeout as error:\n",
    "            print ('Timeout Error: ',error)\n",
    "            return error\n",
    "        except requests.exceptions.RequestException as error:\n",
    "            print ('OOps: Something Else ',error)\n",
    "            return error\n",
    "    \n",
    "    print(f'Checking number of calls: {calls}')\n",
    "    return json_data\n"
   ]
  },
  {
   "cell_type": "code",
   "execution_count": 8,
   "id": "a3aab5bb",
   "metadata": {},
   "outputs": [
    {
     "name": "stdout",
     "output_type": "stream",
     "text": [
      "Checking number of calls: 69\n",
      "CSV has been generated correctly\n"
     ]
    }
   ],
   "source": [
    "def generate_csv():\n",
    "    \n",
    "    api_data = fetch_data()\n",
    "\n",
    "    if isinstance(api_data, list):\n",
    "        df = pd.DataFrame(api_data)\n",
    "        df.to_csv(\"Shark_Attacks.csv\", index=False)\n",
    "        print('CSV has been generated correctly')\n",
    "    else:\n",
    "        print(f'Ha ocurrido un error durante la recepcion de los datos: {api_data}')\n",
    "        \n",
    "\n",
    "\n",
    "generate_csv()"
   ]
  },
  {
   "cell_type": "code",
   "execution_count": null,
   "id": "422ca762",
   "metadata": {},
   "outputs": [],
   "source": []
  }
 ],
 "metadata": {
  "kernelspec": {
   "display_name": "base",
   "language": "python",
   "name": "python3"
  },
  "language_info": {
   "codemirror_mode": {
    "name": "ipython",
    "version": 3
   },
   "file_extension": ".py",
   "mimetype": "text/x-python",
   "name": "python",
   "nbconvert_exporter": "python",
   "pygments_lexer": "ipython3",
   "version": "3.13.5"
  }
 },
 "nbformat": 4,
 "nbformat_minor": 5
}
